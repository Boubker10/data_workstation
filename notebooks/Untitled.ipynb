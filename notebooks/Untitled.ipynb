{
 "cells": [
  {
   "cell_type": "code",
   "execution_count": 1,
   "id": "614acd35-a6f2-445e-a169-026729cf5a59",
   "metadata": {},
   "outputs": [],
   "source": [
    "import sys \n",
    "sys.path.append('../')"
   ]
  },
  {
   "cell_type": "code",
   "execution_count": 4,
   "id": "2e24383c-a00e-447e-b5d0-e7c0053b1d9e",
   "metadata": {},
   "outputs": [],
   "source": [
    "from src.connect import run_query, save_df_to_db"
   ]
  },
  {
   "cell_type": "code",
   "execution_count": 5,
   "id": "14af3651",
   "metadata": {},
   "outputs": [],
   "source": [
    "query = f\"\"\"\n",
    "\n",
    "SELECT * \n",
    "FROM messi AS m\n",
    "WHERE m.\"Competition\" = 'LaLiga'\n",
    "\"\"\"\n",
    "\n",
    "data = run_query(query)"
   ]
  },
  {
   "cell_type": "code",
   "execution_count": 6,
   "id": "5f6e89a1",
   "metadata": {},
   "outputs": [
    {
     "data": {
      "text/html": [
       "<div>\n",
       "<style scoped>\n",
       "    .dataframe tbody tr th:only-of-type {\n",
       "        vertical-align: middle;\n",
       "    }\n",
       "\n",
       "    .dataframe tbody tr th {\n",
       "        vertical-align: top;\n",
       "    }\n",
       "\n",
       "    .dataframe thead th {\n",
       "        text-align: right;\n",
       "    }\n",
       "</style>\n",
       "<table border=\"1\" class=\"dataframe\">\n",
       "  <thead>\n",
       "    <tr style=\"text-align: right;\">\n",
       "      <th></th>\n",
       "      <th>Season</th>\n",
       "      <th>Competition</th>\n",
       "      <th>Matchday</th>\n",
       "      <th>Date</th>\n",
       "      <th>Venue</th>\n",
       "      <th>Club</th>\n",
       "      <th>Opponent</th>\n",
       "      <th>Playing_Position</th>\n",
       "      <th>Minute</th>\n",
       "      <th>At_score</th>\n",
       "      <th>Type</th>\n",
       "      <th>Goal_assist</th>\n",
       "    </tr>\n",
       "  </thead>\n",
       "  <tbody>\n",
       "    <tr>\n",
       "      <th>0</th>\n",
       "      <td>04/05</td>\n",
       "      <td>LaLiga</td>\n",
       "      <td>34</td>\n",
       "      <td>05-01/05</td>\n",
       "      <td>H</td>\n",
       "      <td>FC Barcelona</td>\n",
       "      <td>Albacete Balompie</td>\n",
       "      <td>CF</td>\n",
       "      <td>90+1</td>\n",
       "      <td>2:00</td>\n",
       "      <td>Left-footed shot</td>\n",
       "      <td>Ronaldinho Gaacho</td>\n",
       "    </tr>\n",
       "    <tr>\n",
       "      <th>1</th>\n",
       "      <td>05/06</td>\n",
       "      <td>LaLiga</td>\n",
       "      <td>13</td>\n",
       "      <td>11/27/05</td>\n",
       "      <td>H</td>\n",
       "      <td>FC Barcelona</td>\n",
       "      <td>Racing Santander</td>\n",
       "      <td>RW</td>\n",
       "      <td>51</td>\n",
       "      <td>2:00</td>\n",
       "      <td>Left-footed shot</td>\n",
       "      <td>Samuel Etoo</td>\n",
       "    </tr>\n",
       "    <tr>\n",
       "      <th>2</th>\n",
       "      <td>05/06</td>\n",
       "      <td>LaLiga</td>\n",
       "      <td>19</td>\n",
       "      <td>1/15/06</td>\n",
       "      <td>H</td>\n",
       "      <td>FC Barcelona</td>\n",
       "      <td>Athletic Bilbao</td>\n",
       "      <td>RW</td>\n",
       "      <td>50</td>\n",
       "      <td>2:01</td>\n",
       "      <td>Left-footed shot</td>\n",
       "      <td>Mark van Bommel</td>\n",
       "    </tr>\n",
       "    <tr>\n",
       "      <th>3</th>\n",
       "      <td>05/06</td>\n",
       "      <td>LaLiga</td>\n",
       "      <td>20</td>\n",
       "      <td>1/22/06</td>\n",
       "      <td>H</td>\n",
       "      <td>FC Barcelona</td>\n",
       "      <td>Deportivo Alaves</td>\n",
       "      <td>CF</td>\n",
       "      <td>82</td>\n",
       "      <td>2:00</td>\n",
       "      <td>Left-footed shot</td>\n",
       "      <td>Ronaldinho Gaacho</td>\n",
       "    </tr>\n",
       "    <tr>\n",
       "      <th>4</th>\n",
       "      <td>05/06</td>\n",
       "      <td>LaLiga</td>\n",
       "      <td>21</td>\n",
       "      <td>1/29/06</td>\n",
       "      <td>A</td>\n",
       "      <td>FC Barcelona</td>\n",
       "      <td>RCD Mallorca</td>\n",
       "      <td>CF</td>\n",
       "      <td>75</td>\n",
       "      <td>0:02</td>\n",
       "      <td>Right-footed shot</td>\n",
       "      <td>Sylvinho</td>\n",
       "    </tr>\n",
       "  </tbody>\n",
       "</table>\n",
       "</div>"
      ],
      "text/plain": [
       "  Season Competition Matchday      Date Venue          Club  \\\n",
       "0  04/05      LaLiga       34  05-01/05     H  FC Barcelona   \n",
       "1  05/06      LaLiga       13  11/27/05     H  FC Barcelona   \n",
       "2  05/06      LaLiga       19   1/15/06     H  FC Barcelona   \n",
       "3  05/06      LaLiga       20   1/22/06     H  FC Barcelona   \n",
       "4  05/06      LaLiga       21   1/29/06     A  FC Barcelona   \n",
       "\n",
       "            Opponent Playing_Position Minute At_score               Type  \\\n",
       "0  Albacete Balompie               CF   90+1     2:00   Left-footed shot   \n",
       "1   Racing Santander               RW     51     2:00   Left-footed shot   \n",
       "2    Athletic Bilbao               RW     50     2:01   Left-footed shot   \n",
       "3   Deportivo Alaves               CF     82     2:00   Left-footed shot   \n",
       "4       RCD Mallorca               CF     75     0:02  Right-footed shot   \n",
       "\n",
       "         Goal_assist  \n",
       "0  Ronaldinho Gaacho  \n",
       "1        Samuel Etoo  \n",
       "2    Mark van Bommel  \n",
       "3  Ronaldinho Gaacho  \n",
       "4           Sylvinho  "
      ]
     },
     "execution_count": 6,
     "metadata": {},
     "output_type": "execute_result"
    }
   ],
   "source": [
    "data.head()"
   ]
  },
  {
   "cell_type": "code",
   "execution_count": null,
   "id": "e809656b",
   "metadata": {},
   "outputs": [],
   "source": [
    "data[\"The_Goat\"] = \"YESSSSSSSS\""
   ]
  },
  {
   "cell_type": "code",
   "execution_count": 9,
   "id": "d1ba0ec7",
   "metadata": {},
   "outputs": [],
   "source": [
    "data = data.drop(columns=[\"Date\"])"
   ]
  },
  {
   "cell_type": "code",
   "execution_count": 10,
   "id": "fcc6505c",
   "metadata": {},
   "outputs": [
    {
     "name": "stdout",
     "output_type": "stream",
     "text": [
      "Dropping column: Date\n",
      "Adding column: The_Goat\n",
      "Truncating table: messi\n",
      "✅ Données sauvegardées dans messi\n"
     ]
    }
   ],
   "source": [
    "save_df_to_db(df=data, table_name='messi')"
   ]
  }
 ],
 "metadata": {
  "kernelspec": {
   "display_name": "Python 3",
   "language": "python",
   "name": "python3"
  },
  "language_info": {
   "codemirror_mode": {
    "name": "ipython",
    "version": 3
   },
   "file_extension": ".py",
   "mimetype": "text/x-python",
   "name": "python",
   "nbconvert_exporter": "python",
   "pygments_lexer": "ipython3",
   "version": "3.11.0"
  }
 },
 "nbformat": 4,
 "nbformat_minor": 5
}
